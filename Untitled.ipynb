{
 "cells": [
  {
   "cell_type": "code",
   "execution_count": null,
   "id": "c0e41f0f-c9e4-4ae0-951e-c103e7618f0e",
   "metadata": {},
   "outputs": [],
   "source": []
  }
 ],
 "metadata": {
  "kernelspec": {
   "display_name": "",
   "name": ""
  },
  "language_info": {
   "name": ""
  }
 },
 "nbformat": 4,
 "nbformat_minor": 5
}
