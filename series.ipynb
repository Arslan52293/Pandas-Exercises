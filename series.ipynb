{
 "cells": [
  {
   "cell_type": "markdown",
   "id": "4dc715fa-ac9c-48ec-8e05-5637863bf1e0",
   "metadata": {},
   "source": [
    "#SERIES DATA-STRUC IN PANDAS"
   ]
  },
  {
   "cell_type": "code",
   "execution_count": 26,
   "id": "56eb90a2-b6db-4a93-9644-fa8979a79ffb",
   "metadata": {},
   "outputs": [],
   "source": [
    "import pandas as pd"
   ]
  },
  {
   "cell_type": "code",
   "execution_count": 27,
   "id": "bdbc594c-144c-451e-96d1-d514c77ae115",
   "metadata": {},
   "outputs": [
    {
     "name": "stdout",
     "output_type": "stream",
     "text": [
      "a    2.0\n",
      "b    4.0\n",
      "c    5.0\n",
      "d    6.0\n",
      "e    7.0\n",
      "Name: Python, dtype: float64\n",
      "<class 'pandas.core.series.Series'>\n",
      "6.0\n"
     ]
    }
   ],
   "source": [
    "a = [2,4,5,6,7]\n",
    "var = pd.Series(a,index=['a','b','c','d','e'],dtype=\"float\",name=\"Python\")\n",
    "\n",
    "print(var)\n",
    "print(type(var))\n",
    "print(var.iloc[3])"
   ]
  },
  {
   "cell_type": "code",
   "execution_count": 28,
   "id": "65c9a869-d7c4-4602-9e68-34fe6c3d3b8e",
   "metadata": {},
   "outputs": [],
   "source": [
    "dict = {\"name\" : [\"Python\",\"Java\",\"C++\",\"C#\"],\n",
    "        \"por\" : [12,13,14,15],\n",
    "        \"rank\": [1,2,3,4]\n",
    "       }"
   ]
  },
  {
   "cell_type": "code",
   "execution_count": 29,
   "id": "d3d06a33-187d-4741-a501-a35349c2a032",
   "metadata": {},
   "outputs": [
    {
     "data": {
      "text/plain": [
       "name    [Python, Java, C++, C#]\n",
       "por            [12, 13, 14, 15]\n",
       "rank               [1, 2, 3, 4]\n",
       "dtype: object"
      ]
     },
     "execution_count": 29,
     "metadata": {},
     "output_type": "execute_result"
    }
   ],
   "source": [
    "var1 = pd.Series(dict)\n",
    "var1"
   ]
  },
  {
   "cell_type": "code",
   "execution_count": 30,
   "id": "20ae663b-cb52-433d-9503-5eae3285edf7",
   "metadata": {},
   "outputs": [
    {
     "name": "stdout",
     "output_type": "stream",
     "text": [
      "1    24.0\n",
      "2    24.0\n",
      "3    24.0\n",
      "4    24.0\n",
      "5     NaN\n",
      "6     NaN\n",
      "dtype: float64\n"
     ]
    }
   ],
   "source": [
    "s = pd.Series(12,index=[1,2,3,4,5,6])\n",
    "s1 = pd.Series(12,index=[1,2,3,4])\n",
    "print(s+s1)"
   ]
  },
  {
   "cell_type": "code",
   "execution_count": null,
   "id": "9c86543b-c896-4209-8bad-d8044d5156fb",
   "metadata": {},
   "outputs": [],
   "source": []
  }
 ],
 "metadata": {
  "kernelspec": {
   "display_name": "Python 3 (ipykernel)",
   "language": "python",
   "name": "python3"
  },
  "language_info": {
   "codemirror_mode": {
    "name": "ipython",
    "version": 3
   },
   "file_extension": ".py",
   "mimetype": "text/x-python",
   "name": "python",
   "nbconvert_exporter": "python",
   "pygments_lexer": "ipython3",
   "version": "3.12.4"
  }
 },
 "nbformat": 4,
 "nbformat_minor": 5
}
